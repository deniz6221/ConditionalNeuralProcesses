{
 "cells": [
  {
   "cell_type": "code",
   "execution_count": 2,
   "metadata": {},
   "outputs": [],
   "source": [
    "import torch\n",
    "from homework4 import CNP\n",
    "import numpy as np"
   ]
  },
  {
   "cell_type": "code",
   "execution_count": null,
   "metadata": {},
   "outputs": [
    {
     "ename": "TypeError",
     "evalue": "__init__() missing 3 required positional arguments: 'in_shape', 'hidden_size', and 'num_hidden_layers'",
     "output_type": "error",
     "traceback": [
      "\u001b[0;31m---------------------------------------------------------------------------\u001b[0m",
      "\u001b[0;31mTypeError\u001b[0m                                 Traceback (most recent call last)",
      "Cell \u001b[0;32mIn[3], line 1\u001b[0m\n\u001b[0;32m----> 1\u001b[0m model \u001b[38;5;241m=\u001b[39m \u001b[43mCNP\u001b[49m\u001b[43m(\u001b[49m\u001b[43m)\u001b[49m\n",
      "\u001b[0;31mTypeError\u001b[0m: __init__() missing 3 required positional arguments: 'in_shape', 'hidden_size', and 'num_hidden_layers'"
     ]
    }
   ],
   "source": [
    "def generate_samples(traj, d_x):   \n",
    "    random_rows = traj[np.random.choice(traj.shape[0], size=4, replace=False)]\n",
    "    \n",
    "    random_rows = np.array(random_rows)\n",
    "    \n",
    "    tensor_1 = torch.tensor(random_rows[:3], dtype=torch.double) \n",
    "    tensor_2 = torch.tensor([random_rows[3][:d_x]], dtype=torch.double) \n",
    "    tensor_3 = torch.tensor([[random_rows[3][d_x:]]], dtype=torch.double) \n",
    "\n",
    "    return tensor_1, tensor_2, tensor_3\n",
    "\n",
    "def train():\n",
    "    d_x = 3\n",
    "    d_y = 2\n",
    "    model = CNP([d_x,d_y], 128, 3)\n",
    "    training_data = np.load(\"states.npy\")\n",
    "    traj_count = len(training_data)\n",
    "    optimizer = torch.optim.Adam(model.parameters(), lr=1e-3)\n",
    "    for i in range(100_000):\n",
    "        traj = training_data[np.random.randint(traj_count)]\n",
    "        traj = torch.tensor(traj, dtype=torch.float32)\n",
    "        samples, target_x, target_y = generate_samples(traj)\n",
    "        optimizer.zero_grad()\n",
    "        output = model(samples[:3], target_x)\n",
    "        loss = CNP.nll_loss(output, target_y)\n",
    "        optimizer.zero_grad()\n",
    "        loss = model.loss(traj)\n",
    "        loss.backward()\n",
    "        optimizer.step()\n",
    "        \n",
    "\n"
   ]
  }
 ],
 "metadata": {
  "kernelspec": {
   "display_name": "myenv",
   "language": "python",
   "name": "python3"
  },
  "language_info": {
   "codemirror_mode": {
    "name": "ipython",
    "version": 3
   },
   "file_extension": ".py",
   "mimetype": "text/x-python",
   "name": "python",
   "nbconvert_exporter": "python",
   "pygments_lexer": "ipython3",
   "version": "3.9.21"
  }
 },
 "nbformat": 4,
 "nbformat_minor": 2
}
